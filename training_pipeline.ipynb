{
 "cells": [
  {
   "cell_type": "code",
   "execution_count": 1,
   "id": "063d9a22",
   "metadata": {
    "ExecuteTime": {
     "start_time": "2024-01-04T06:37:27.901967Z",
     "end_time": "2024-01-04T06:37:30.138509Z"
    }
   },
   "outputs": [],
   "source": [
    "import hopsworks\n",
    "from sklearn.model_selection import train_test_split\n",
    "from sklearn.preprocessing import StandardScaler\n",
    "from torch.utils.data import TensorDataset, DataLoader\n",
    "from tqdm.notebook import tqdm\n",
    "import seaborn as sns\n",
    "from matplotlib import pyplot as plt\n",
    "from hsml.schema import Schema\n",
    "from hsml.model_schema import ModelSchema\n",
    "import numpy as np\n",
    "import joblib\n",
    "import torch\n",
    "import torch.nn as nn\n",
    "import torch.optim as optim\n",
    "import os"
   ]
  },
  {
   "cell_type": "code",
   "execution_count": 2,
   "id": "5ce90341",
   "metadata": {
    "ExecuteTime": {
     "start_time": "2024-01-04T06:37:30.139530Z",
     "end_time": "2024-01-04T06:37:31.796706Z"
    }
   },
   "outputs": [
    {
     "name": "stdout",
     "output_type": "stream",
     "text": [
      "Connected. Call `.close()` to terminate connection gracefully.\n",
      "\n",
      "Logged in to project, explore it here https://c.app.hopsworks.ai:443/p/191638\n",
      "Connected. Call `.close()` to terminate connection gracefully.\n"
     ]
    }
   ],
   "source": [
    "# You have to set the environment variable 'HOPSWORKS_API_KEY' for login to succeed\n",
    "project = hopsworks.login(api_key_value='mvAJH9queUocj5wN.skwtHCxoMiGJdqUgfq2r2SbJZMEdy9x3NZ8PN4kEmvwhE3nT5aIwRSDuRPEIIYea')\n",
    "fs = project.get_feature_store()"
   ]
  },
  {
   "cell_type": "code",
   "execution_count": 3,
   "id": "359ed7b3",
   "metadata": {
    "ExecuteTime": {
     "start_time": "2024-01-04T06:37:31.797708Z",
     "end_time": "2024-01-04T06:37:32.057450Z"
    }
   },
   "outputs": [
    {
     "data": {
      "text/plain": "'\\nfeature_view = fs.get_or_create_feature_view(name=\"weather\",\\n                                  version=1,\\n                                  description=\"\",\\n                                  labels=[\\'temperature_2m\\', \\'apparent_temperature\\', \\'rain\\', \\'snowfall\\', \\'surface_pressure\\', \\'cloud_cover\\', \\'wind_speed_10m\\', \\'wind_direction_10m\\', \\'day_cos\\', \\'day_sin\\', \\'hour_cos\\', \\'hour_sin\\'],\\n                                  query=query)\\n# You can read training data, randomly split into train/test sets of features (X) and labels (y)\\n\\nX_train, X_test, y_train, y_test = feature_view.train_test_split(\\n    train_start=\"2023-01-01\",\\n    train_end=\"2023-09-13\",    \\n    test_start=\"2023-09-14\", \\n    test_end=\"2023-12-31\", \\n    description=\\'Weather dataset for 2023\\'\\n)\\n'"
     },
     "execution_count": 3,
     "metadata": {},
     "output_type": "execute_result"
    }
   ],
   "source": [
    "# The feature view is the input set of features for your model. The features can come from different feature groups.    \n",
    "# You can select features from different feature groups and join them together to create a feature view\n",
    "weather_fg = fs.get_feature_group(name=\"weather\", version=1)\n",
    "#query = weather_fg.select_all()\n",
    "\"\"\"\n",
    "feature_view = fs.get_or_create_feature_view(name=\"weather\",\n",
    "                                  version=1,\n",
    "                                  description=\"\",\n",
    "                                  labels=['temperature_2m', 'apparent_temperature', 'rain', 'snowfall', 'surface_pressure', 'cloud_cover', 'wind_speed_10m', 'wind_direction_10m', 'day_cos', 'day_sin', 'hour_cos', 'hour_sin'],\n",
    "                                  query=query)\n",
    "# You can read training data, randomly split into train/test sets of features (X) and labels (y)\n",
    "\n",
    "X_train, X_test, y_train, y_test = feature_view.train_test_split(\n",
    "    train_start=\"2023-01-01\",\n",
    "    train_end=\"2023-09-13\",    \n",
    "    test_start=\"2023-09-14\", \n",
    "    test_end=\"2023-12-31\", \n",
    "    description='Weather dataset for 2023'\n",
    ")\n",
    "\"\"\""
   ]
  },
  {
   "cell_type": "code",
   "execution_count": 4,
   "outputs": [
    {
     "name": "stdout",
     "output_type": "stream",
     "text": [
      "Finished: Reading data from Hopsworks, using ArrowFlight (3.30s) from Hopsworks, using ArrowFlight.   Reading data from Hopsworks, using ArrowFlight...   \n",
      "        temperature_2m  apparent_temperature  rain  snowfall  \\\n",
      "4014         15.315000             11.472372   0.0      0.00   \n",
      "113348       15.915000             11.824448   0.0      0.00   \n",
      "168834       15.665000             11.787579   0.3      0.00   \n",
      "146686       15.665000             12.030478   0.2      0.00   \n",
      "198605       16.315001             12.840862   0.1      0.00   \n",
      "...                ...                   ...   ...       ...   \n",
      "161615       -0.185000             -3.219042   0.0      0.14   \n",
      "182282       -0.235000             -3.228180   0.0      0.14   \n",
      "138579       -0.385000             -3.208137   0.0      0.14   \n",
      "1115         -0.535000             -3.178375   0.0      0.21   \n",
      "197802       -0.635000             -3.888433   0.0      0.35   \n",
      "\n",
      "        surface_pressure  cloud_cover  wind_speed_10m  wind_direction_10m  \\\n",
      "4014         1011.721069    39.300003       21.188072          170.217667   \n",
      "113348       1011.328308    56.400002       22.805367          168.157944   \n",
      "168834       1011.325745    57.600002       24.291330          173.191040   \n",
      "146686       1010.827148    45.000000       23.623243          172.116959   \n",
      "198605       1010.334961    40.800003       25.509243          171.069489   \n",
      "...                  ...          ...             ...                 ...   \n",
      "161615        983.342651   100.000000        5.623380           50.194473   \n",
      "182282        983.940552   100.000000        5.241679           74.054535   \n",
      "138579        984.636536   100.000000        4.024922           79.695213   \n",
      "1115          985.133545   100.000000        2.741678          156.801376   \n",
      "197802        985.830261   100.000000        6.924738          242.102829   \n",
      "\n",
      "         day_cos   day_sin      hour_cos  hour_sin  \n",
      "4014   -0.882048  0.471160 -2.588190e-01  0.965926  \n",
      "113348 -0.882048  0.471160 -5.000000e-01  0.866025  \n",
      "168834 -0.882048  0.471160 -7.071068e-01  0.707107  \n",
      "146686 -0.882048  0.471160 -8.660254e-01  0.500000  \n",
      "198605 -0.882048  0.471160 -9.659258e-01  0.258819  \n",
      "...          ...       ...           ...       ...  \n",
      "161615  0.994671 -0.103102 -1.836970e-16 -1.000000  \n",
      "182282  0.994671 -0.103102  2.588190e-01 -0.965926  \n",
      "138579  0.994671 -0.103102  5.000000e-01 -0.866025  \n",
      "1115    0.994671 -0.103102  7.071068e-01 -0.707107  \n",
      "197802  0.994671 -0.103102  8.660254e-01 -0.500000  \n",
      "\n",
      "[40000 rows x 12 columns]\n"
     ]
    }
   ],
   "source": [
    "X_data = weather_fg.read()\n",
    "# Use less data for testing\n",
    "raw_X_data = X_data.sort_values(by='date').drop(columns=['date'])[-40000:]\n",
    "print(raw_X_data)\n",
    "raw_X_data = raw_X_data.to_numpy()\n",
    "# Scale the input data!\n",
    "\n",
    "scaler = StandardScaler()\n",
    "scaler.fit(raw_X_data[:, :8])\n",
    "raw_X_data[:, :8] = scaler.transform(raw_X_data[:, :8])\n"
   ],
   "metadata": {
    "collapsed": false,
    "ExecuteTime": {
     "start_time": "2024-01-04T06:37:32.057450Z",
     "end_time": "2024-01-04T06:37:36.602408Z"
    }
   }
  },
  {
   "cell_type": "code",
   "execution_count": 14,
   "outputs": [],
   "source": [
    "# For LSTM model only\n",
    "def create_windows(data, window_size, step=1):\n",
    "    X, y = [], []\n",
    "    for i in range(0, len(data) - window_size, step):\n",
    "        # Create sequences (windows) of data\n",
    "        X.append(data[i:(i + window_size)])\n",
    "        # Append the target variable, the next value after the window\n",
    "        y.append(data[i + window_size, :8])\n",
    "    return np.array(X), np.array(y)\n",
    "\n",
    "X_data, Y_data = create_windows(raw_X_data, 24)\n",
    "\n",
    "X_train, X_test, Y_train, Y_test = train_test_split(X_data.copy(), Y_data.copy(), test_size=0.2, random_state=42, shuffle=True)"
   ],
   "metadata": {
    "collapsed": false,
    "ExecuteTime": {
     "start_time": "2024-01-04T06:44:25.209025Z",
     "end_time": "2024-01-04T06:44:25.271098Z"
    }
   }
  },
  {
   "cell_type": "code",
   "execution_count": 6,
   "outputs": [],
   "source": [
    "# For regular model only\n",
    "# Drop the first and last row from the target and training data respectively.\n",
    "Y_data = raw_X_data[1:].copy()\n",
    "Y_data = Y_data.drop(columns=['day_cos', 'day_sin', 'hour_cos', 'hour_sin'])\n",
    "X_data = raw_X_data[:-1].copy()\n",
    "\n",
    "X_train, X_test, Y_train, Y_test = train_test_split(X_data.copy(), Y_data.copy(), test_size=0.2, random_state=42, shuffle=True)"
   ],
   "metadata": {
    "collapsed": false,
    "ExecuteTime": {
     "start_time": "2024-01-04T06:16:01.848571Z",
     "end_time": "2024-01-04T06:16:01.864088Z"
    }
   }
  },
  {
   "cell_type": "code",
   "execution_count": 20,
   "outputs": [
    {
     "name": "stdout",
     "output_type": "stream",
     "text": [
      "[-0.94550073 -1.01950477 -0.21642385 -0.11775833  0.70493565  0.90726675\n",
      "  0.76813191  1.54021819  0.55601744  0.83117063 -0.8660254  -0.5       ]\n",
      "[[-1.12171506e+00 -1.29921511e+00 -2.16423848e-01  9.59628043e-01\n",
      "  -5.73523781e-01  1.16108742e+00  2.12016531e+00  1.64979496e+00\n",
      "   5.70242293e-01  8.21476553e-01 -8.66025404e-01 -5.00000000e-01]\n",
      " [-1.14059516e+00 -1.29011010e+00 -2.16423848e-01 -1.17758330e-01\n",
      "  -4.95463280e-01 -7.22261979e-01  1.78879829e+00  1.62925177e+00\n",
      "   5.70242293e-01  8.21476553e-01 -7.07106781e-01 -7.07106781e-01]\n",
      " [-1.27904925e+00 -1.37571095e+00 -2.16423848e-01 -1.17758330e-01\n",
      "  -3.92283221e-01 -1.08014911e+00  1.32364947e+00  1.61434770e+00\n",
      "   5.70242293e-01  8.21476553e-01 -5.00000000e-01 -8.66025404e-01]\n",
      " [-1.36086306e+00 -1.44333628e+00 -2.16423848e-01 -1.17758330e-01\n",
      "  -2.88667040e-01 -6.00428076e-01  1.27708581e+00  1.57973848e+00\n",
      "   5.70242293e-01  8.21476553e-01 -2.58819045e-01 -9.65925826e-01]\n",
      " [-1.44267683e+00 -1.50037383e+00 -2.16423848e-01 -1.17758330e-01\n",
      "  -1.93762660e-01 -1.12583684e+00  1.11051539e+00  1.53996580e+00\n",
      "   5.70242293e-01  8.21476553e-01 -1.83697020e-16 -1.00000000e+00]\n",
      " [-1.50561051e+00 -1.54063855e+00 -2.16423848e-01 -1.17758330e-01\n",
      "  -1.42140720e-01 -1.24005614e+00  9.27413871e-01  1.52051010e+00\n",
      "   5.70242293e-01  8.21476553e-01  2.58819045e-01 -9.65925826e-01]\n",
      " [-1.56225087e+00 -1.56889138e+00 -2.16423848e-01 -1.17758330e-01\n",
      "  -8.17644295e-02 -1.34666081e+00  6.37193704e-01  1.47852381e+00\n",
      "   5.70242293e-01  8.21476553e-01  5.00000000e-01 -8.66025404e-01]\n",
      " [-1.63147788e+00 -1.60907446e+00 -2.16423848e-01 -1.17758330e-01\n",
      "  -3.01903557e-02 -6.08042629e-01  3.63986694e-01  1.42789749e+00\n",
      "   5.70242293e-01  8.21476553e-01  7.07106781e-01 -7.07106781e-01]\n",
      " [-1.69441157e+00 -1.65224815e+00 -2.16423848e-01 -1.17758330e-01\n",
      "  -4.61872051e-03 -1.12583684e+00  2.04871937e-01  1.39543641e+00\n",
      "   5.70242293e-01  8.21476553e-01  8.66025404e-01 -5.00000000e-01]\n",
      " [-1.71329169e+00 -1.66626697e+00 -2.16423848e-01 -1.17758330e-01\n",
      "   4.73329710e-02  5.41764942e-01  1.68851764e-01  1.46121527e+00\n",
      "   5.70242293e-01  8.21476553e-01  9.65925826e-01 -2.58819045e-01]\n",
      " [-1.60001104e+00 -1.57085175e+00 -2.16423848e-01 -1.17758330e-01\n",
      "   9.16791221e-02 -3.94833275e-01  3.17572813e-01  1.45637590e+00\n",
      "   5.56017437e-01  8.31170626e-01  1.00000000e+00  0.00000000e+00]\n",
      " [-1.49302379e+00 -1.46264316e+00 -2.16423848e-01 -1.17758330e-01\n",
      "   1.18601671e-01  2.44794738e-01  1.94381640e-01  1.49673226e+00\n",
      "   5.56017437e-01  8.31170626e-01  9.65925826e-01  2.58819045e-01]\n",
      " [-1.40491662e+00 -1.38466764e+00 -2.16423848e-01 -1.17758330e-01\n",
      "   1.62729762e-01  9.07266747e-01  2.39535775e-01  1.41632463e+00\n",
      "   5.56017437e-01  8.31170626e-01  8.66025404e-01  5.00000000e-01]\n",
      " [-1.28534262e+00 -1.29391904e+00 -2.16423848e-01 -1.17758330e-01\n",
      "   2.15787713e-01  9.83412948e-01  4.16087756e-01  1.40042375e+00\n",
      "   5.56017437e-01  8.31170626e-01  7.07106781e-01  7.07106781e-01]\n",
      " [-1.32310285e+00 -1.32689137e+00 -2.16423848e-01 -1.17758330e-01\n",
      "   2.58921233e-01  9.14881445e-01  3.83639947e-01  1.38068587e+00\n",
      "   5.56017437e-01  8.31170626e-01  5.00000000e-01  8.66025404e-01]\n",
      " [-1.41750338e+00 -1.42285750e+00 -2.16423848e-01 -1.17758330e-01\n",
      "   3.01618631e-01  1.05955915e+00  5.05000912e-01  1.39320577e+00\n",
      "   5.56017437e-01  8.31170626e-01  2.58819045e-01  9.65925826e-01]\n",
      " [-1.44897022e+00 -1.44981024e+00 -2.16423848e-01 -1.17758330e-01\n",
      "   3.44800017e-01  1.16108742e+00  4.73564174e-01  1.37400607e+00\n",
      "   5.56017437e-01  8.31170626e-01  6.12323400e-17  1.00000000e+00]\n",
      " [-1.32939621e+00 -1.35430796e+00 -2.16423848e-01 -1.17758330e-01\n",
      "   4.06559133e-01 -5.01437976e-01  5.76035880e-01  1.43029017e+00\n",
      "   5.56017437e-01  8.31170626e-01 -2.58819045e-01  9.65925826e-01]\n",
      " [-1.19094212e+00 -1.27573539e+00 -2.16423848e-01 -1.17758330e-01\n",
      "   4.51112708e-01  9.07266747e-01  1.08197454e+00  1.46498581e+00\n",
      "   5.56017437e-01  8.31170626e-01 -5.00000000e-01  8.66025404e-01]\n",
      " [-1.07766147e+00 -1.18189888e+00 -2.16423848e-01 -1.17758330e-01\n",
      "   4.95400354e-01  9.07266747e-01  1.17199038e+00  1.49430652e+00\n",
      "   5.56017437e-01  8.31170626e-01 -7.07106781e-01  7.07106781e-01]\n",
      " [-9.83260946e-01 -1.10705214e+00 -2.16423848e-01 -1.17758330e-01\n",
      "   5.22216533e-01  9.07266747e-01  1.30839733e+00  1.54642626e+00\n",
      "   5.56017437e-01  8.31170626e-01 -8.66025404e-01  5.00000000e-01]\n",
      " [-9.51794103e-01 -1.05362258e+00 -2.16423848e-01 -1.17758330e-01\n",
      "   5.65876590e-01  9.07266747e-01  1.07349678e+00  1.51419892e+00\n",
      "   5.56017437e-01  8.31170626e-01 -9.65925826e-01  2.58819045e-01]\n",
      " [-9.01447158e-01 -1.05516392e+00 -2.16423848e-01 -1.17758330e-01\n",
      "   6.27082575e-01  9.07266747e-01  1.66972681e+00  1.59771090e+00\n",
      "   5.56017437e-01  8.31170626e-01 -1.00000000e+00  1.22464680e-16]\n",
      " [-9.39207371e-01 -1.04828290e+00 -2.16423848e-01 -1.17758330e-01\n",
      "   6.61546842e-01  9.07266747e-01  1.15353248e+00  1.56514834e+00\n",
      "   5.56017437e-01  8.31170626e-01 -9.65925826e-01 -2.58819045e-01]]\n",
      "[8.17688123e+00 5.28671212e+00 6.90300004e-02 7.65100001e-03\n",
      " 1.00866201e+03 5.42556005e+01 1.27557676e+01 2.05345899e+02]\n",
      "[6.31209728e+01 8.84366759e+01 1.01733860e-01 4.22136716e-03\n",
      " 1.31695835e+02 1.55219409e+03 2.87439052e+01 8.69054957e+03]\n"
     ]
    }
   ],
   "source": [
    "print(Y_train[0])\n",
    "print(X_train[0])\n",
    "print(scaler.mean_)\n",
    "print(scaler.var_)"
   ],
   "metadata": {
    "collapsed": false,
    "ExecuteTime": {
     "start_time": "2024-01-04T06:30:22.846511Z",
     "end_time": "2024-01-04T06:30:22.853519Z"
    }
   }
  },
  {
   "cell_type": "code",
   "execution_count": null,
   "outputs": [],
   "source": [
    "class WeatherModel(nn.Module):\n",
    "    def __init__(self, n_input, n_hidden, n_out):\n",
    "        super(WeatherModel, self).__init__()\n",
    "        self.fc1 = nn.Linear(n_input, n_hidden)\n",
    "        self.bn1 = nn.BatchNorm1d(n_hidden)\n",
    "        self.fc2 = nn.Linear(n_hidden, n_hidden)\n",
    "        self.bn2 = nn.BatchNorm1d(n_hidden)\n",
    "        self.fc3 = nn.Linear(n_hidden, n_hidden)\n",
    "        self.bn3 = nn.BatchNorm1d(n_hidden)\n",
    "        self.fc4 = nn.Linear(n_hidden, n_hidden)\n",
    "        self.bn4 = nn.BatchNorm1d(n_hidden)\n",
    "        self.fc5 = nn.Linear(n_hidden, n_hidden)\n",
    "        self.out = nn.Linear(n_hidden, n_out)\n",
    "\n",
    "    def forward(self, x):\n",
    "        silu = nn.SiLU()\n",
    "        x = silu(self.bn1(self.fc1(x)))\n",
    "        x = silu(self.bn2(self.fc2(x)))\n",
    "        x = silu(self.bn3(self.fc3(x)))\n",
    "        x = silu(self.bn4(self.fc4(x)))\n",
    "        x = self.out(self.fc5(x))\n",
    "        return x\n",
    "\n",
    "n_input = 12 # Number of features\n",
    "n_hidden = 512  # Number of hidden nodes\n",
    "n_out = 8 # Number of classes\n",
    "\n",
    "\n",
    "model = WeatherModel(n_input, n_hidden, n_out)"
   ],
   "metadata": {
    "collapsed": false
   }
  },
  {
   "cell_type": "code",
   "execution_count": 8,
   "outputs": [],
   "source": [
    "class LSTMWeatherModel(nn.Module):\n",
    "    def __init__(self, n_input, n_hidden, n_out, num_layers):\n",
    "        super(LSTMWeatherModel, self).__init__()\n",
    "\n",
    "        self.num_layers = num_layers\n",
    "        self.hidden_layer_size = n_hidden\n",
    "\n",
    "        # Stacked LSTM layer\n",
    "        self.lstm = nn.LSTM(n_input, n_hidden, num_layers, batch_first=True)\n",
    "\n",
    "        self.linear1 = nn.Linear(n_hidden, n_hidden)\n",
    "        self.linear2 = nn.Linear(n_hidden, n_hidden)\n",
    "        self.linear3 = nn.Linear(n_hidden, n_out)\n",
    "\n",
    "\n",
    "    def forward(self, x):\n",
    "        # Stacked LSTM\n",
    "        h0 = torch.zeros(self.num_layers, x.size(0), self.hidden_layer_size).to(x.device)\n",
    "        c0 = torch.zeros(self.num_layers, x.size(0), self.hidden_layer_size).to(x.device)\n",
    "        x, _ = self.lstm(x, (h0, c0))\n",
    "        x = x[:, -1, :]\n",
    "\n",
    "        # Regular feed forward network\n",
    "        x = nn.SiLU()(self.linear1(x))\n",
    "        x = nn.SiLU()(self.linear2(x))\n",
    "        x = self.linear3(x)\n",
    "        return x\n",
    "\n",
    "n_input = 12 # Number of features\n",
    "n_hidden = 128  # Number of hidden nodes\n",
    "n_out = 8 # Number of classes\n",
    "num_layers = 2\n",
    "\n",
    "\n",
    "model = LSTMWeatherModel(n_input, n_hidden, n_out, num_layers)"
   ],
   "metadata": {
    "collapsed": false,
    "ExecuteTime": {
     "start_time": "2024-01-04T06:38:16.503310Z",
     "end_time": "2024-01-04T06:38:16.509593Z"
    }
   }
  },
  {
   "cell_type": "code",
   "execution_count": 9,
   "id": "42fbcfd3",
   "metadata": {
    "ExecuteTime": {
     "start_time": "2024-01-04T06:38:17.353499Z",
     "end_time": "2024-01-04T06:39:54.220761Z"
    }
   },
   "outputs": [
    {
     "data": {
      "text/plain": "Epoch 1/50:   0%|          | 0/50 [00:00<?, ?it/s]",
      "application/vnd.jupyter.widget-view+json": {
       "version_major": 2,
       "version_minor": 0,
       "model_id": "9c39dc7ee15f44a7a58814c627e9dc61"
      }
     },
     "metadata": {},
     "output_type": "display_data"
    }
   ],
   "source": [
    "# Hyper-parameters\n",
    "epochs = 50\n",
    "batch_size = 512\n",
    "learning_rate = 0.001\n",
    "\n",
    "# Define loss function, optimizer, and convert data to tensors\n",
    "loss_fun = nn.MSELoss()\n",
    "optimizer = optim.Adam(model.parameters(), lr=learning_rate)\n",
    "x_train = torch.tensor(X_train, dtype=torch.float32)\n",
    "y_train = torch.tensor(Y_train, dtype=torch.float32)\n",
    "x_test = torch.tensor(X_test, dtype=torch.float32)\n",
    "y_test = torch.tensor(Y_test, dtype=torch.float32)\n",
    "\n",
    "# Create TensorDatasets\n",
    "train_dataset = TensorDataset(x_train, y_train)\n",
    "test_dataset = TensorDataset(x_test, y_test)\n",
    "\n",
    "# Define dataloader\n",
    "train_loader = DataLoader(train_dataset, batch_size=batch_size, shuffle=True)\n",
    "test_loader = DataLoader(test_dataset, batch_size=batch_size)\n",
    "\n",
    "train_loss_array = []\n",
    "val_loss_array = []\n",
    "\n",
    "# Training loop\n",
    "epoch_loop = tqdm(range(epochs), desc=f\"Epoch {1}/{epochs}\")\n",
    "for epoch in epoch_loop:\n",
    "    train_loss = 0\n",
    "    val_loss = 0\n",
    "\n",
    "    for batch_x, batch_y in train_loader:\n",
    "        optimizer.zero_grad()\n",
    "        outputs = model(batch_x)\n",
    "        loss = loss_fun(outputs, batch_y)\n",
    "        loss.backward()\n",
    "        optimizer.step()\n",
    "        train_loss += loss.item()\n",
    "    train_loss /= len(train_loader)\n",
    "\n",
    "    # Validation loop with tqdm\n",
    "    with torch.no_grad():\n",
    "        for batch_x, batch_y in test_loader:\n",
    "            outputs = model(batch_x)\n",
    "            val_loss += loss_fun(outputs, batch_y).item()\n",
    "        val_loss /= len(test_loader)\n",
    "        epoch_loop.set_description(f\"Epoch {epoch + 1}/{epochs} [Train Loss: {train_loss:.4f}] [Validation Loss: {val_loss:.4f}]\")\n",
    "\n",
    "        train_loss_array.append(train_loss)\n",
    "        val_loss_array.append(val_loss)\n"
   ]
  },
  {
   "cell_type": "code",
   "execution_count": 10,
   "id": "7c8f56c4",
   "metadata": {
    "ExecuteTime": {
     "start_time": "2024-01-04T06:39:55.681933Z",
     "end_time": "2024-01-04T06:39:55.778581Z"
    }
   },
   "outputs": [
    {
     "data": {
      "text/plain": "<Figure size 640x480 with 1 Axes>",
      "image/png": "[encoded data removed]"
     },
     "metadata": {},
     "output_type": "display_data"
    }
   ],
   "source": [
    "plt.plot(range(len(train_loss_array)), train_loss_array, label='Train loss')\n",
    "plt.plot(range(len(val_loss_array)), val_loss_array, label='Validation loss')\n",
    "plt.legend()\n",
    "plt.show()"
   ]
  },
  {
   "cell_type": "code",
   "execution_count": 24,
   "outputs": [
    {
     "data": {
      "text/plain": "<Figure size 640x480 with 1 Axes>",
      "image/png": "[encoded data removed]"
     },
     "metadata": {},
     "output_type": "display_data"
    }
   ],
   "source": [
    "# Try to plot features over 2 days amd compare to true values\n",
    "test_data = raw_X_data.copy()[:48]\n",
    "\n",
    "test_x_data, test_y_data = create_windows(test_data, 24)\n",
    "\n",
    "predictions = model(torch.tensor(test_x_data, dtype=torch.float32))\n",
    "\n",
    "predictions = scaler.inverse_transform(predictions.detach().numpy())\n",
    "outcomes = scaler.inverse_transform(test_y_data)\n",
    "plt.plot(range(24), predictions[:, 0], label='Predictions')\n",
    "plt.plot(range(24), outcomes[:, 0], label='Outcomes')\n",
    "plt.legend()\n",
    "plt.show()"
   ],
   "metadata": {
    "collapsed": false,
    "ExecuteTime": {
     "start_time": "2024-01-04T06:46:04.158088Z",
     "end_time": "2024-01-04T06:46:04.235679Z"
    }
   }
  },
  {
   "cell_type": "code",
   "execution_count": 31,
   "id": "bcfdfc4f",
   "metadata": {
    "ExecuteTime": {
     "start_time": "2024-01-04T06:54:27.892576Z",
     "end_time": "2024-01-04T06:54:41.222591Z"
    }
   },
   "outputs": [
    {
     "name": "stdout",
     "output_type": "stream",
     "text": [
      "Connected. Call `.close()` to terminate connection gracefully.\n"
     ]
    },
    {
     "data": {
      "text/plain": "  0%|          | 0/6 [00:00<?, ?it/s]",
      "application/vnd.jupyter.widget-view+json": {
       "version_major": 2,
       "version_minor": 0,
       "model_id": "13d090ce75e14831810ea5b0b8184584"
      }
     },
     "metadata": {},
     "output_type": "display_data"
    },
    {
     "data": {
      "text/plain": "Uploading: 0.000%|          | 0/807 elapsed<00:00 remaining<?",
      "application/vnd.jupyter.widget-view+json": {
       "version_major": 2,
       "version_minor": 0,
       "model_id": "476ada9b04bc45d083bd8a6493af29ad"
      }
     },
     "metadata": {},
     "output_type": "display_data"
    },
    {
     "data": {
      "text/plain": "Uploading: 0.000%|          | 0/962200 elapsed<00:00 remaining<?",
      "application/vnd.jupyter.widget-view+json": {
       "version_major": 2,
       "version_minor": 0,
       "model_id": "41664aa88c524fd4bb25a0662b4aa0fc"
      }
     },
     "metadata": {},
     "output_type": "display_data"
    },
    {
     "data": {
      "text/plain": "Uploading: 0.000%|          | 0/235 elapsed<00:00 remaining<?",
      "application/vnd.jupyter.widget-view+json": {
       "version_major": 2,
       "version_minor": 0,
       "model_id": "f95d6f9d2c634b2f96890fd58d71c7ac"
      }
     },
     "metadata": {},
     "output_type": "display_data"
    },
    {
     "name": "stdout",
     "output_type": "stream",
     "text": [
      "Model created, explore it at https://c.app.hopsworks.ai:443/p/191638/models/weather_model/1\n"
     ]
    },
    {
     "data": {
      "text/plain": "Model(name: 'weather_model', version: 1)"
     },
     "execution_count": 31,
     "metadata": {},
     "output_type": "execute_result"
    }
   ],
   "source": [
    "# We will now upload our model to the Hopsworks Model Registry. First get an object for the model registry.\n",
    "mr = project.get_model_registry()\n",
    "\n",
    "# The contents of the 'iris_model' directory will be saved to the model registry. Create the dir, first.\n",
    "model_dir=\"trained_models\"\n",
    "if os.path.isdir(model_dir) == False:\n",
    "    os.mkdir(model_dir)\n",
    "\n",
    "# Save both our model and the confusion matrix to 'model_dir', whose contents will be uploaded to the model registry\n",
    "torch.save(model, model_dir + '/weather_model.pth')\n",
    "\n",
    "# Save the standardizer since it is needed for inference!\n",
    "joblib.dump(scaler, model_dir + '/scaler.save')\n",
    "\n",
    "# Specify the schema of the model's input/output using the features (X_train) and labels (y_train)\n",
    "input_schema = Schema(X_train)\n",
    "output_schema = Schema(Y_train)\n",
    "model_schema = ModelSchema(input_schema, output_schema)\n",
    "\n",
    "# Create an entry in the model registry that includes the model's name, desc, metrics\n",
    "weather_model = mr.python.create_model(\n",
    "    name=\"weather_model\",\n",
    "    metrics={\"Validation MSE\" : val_loss_array[-1]},\n",
    "    model_schema=model_schema,\n",
    "    description=\"Weather predictor for Stockholm\"\n",
    ")\n",
    "\n",
    "# Upload the model to the model registry, including all files in 'model_dir'\n",
    "weather_model.save(model_dir)"
   ]
  }
 ],
 "metadata": {
  "kernelspec": {
   "display_name": "Python 3 (ipykernel)",
   "language": "python",
   "name": "python3"
  },
  "language_info": {
   "codemirror_mode": {
    "name": "ipython",
    "version": 3
   },
   "file_extension": ".py",
   "mimetype": "text/x-python",
   "name": "python",
   "nbconvert_exporter": "python",
   "pygments_lexer": "ipython3",
   "version": "3.10.0"
  }
 },
 "nbformat": 4,
 "nbformat_minor": 5
}
