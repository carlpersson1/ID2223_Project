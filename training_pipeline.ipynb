{
 "cells": [
  {
   "cell_type": "code",
   "execution_count": 1,
   "id": "063d9a22",
   "metadata": {
    "ExecuteTime": {
     "start_time": "2024-01-05T18:20:12.623450Z",
     "end_time": "2024-01-05T18:20:14.916607Z"
    }
   },
   "outputs": [],
   "source": [
    "import hopsworks\n",
    "from sklearn.model_selection import train_test_split\n",
    "from sklearn.preprocessing import StandardScaler\n",
    "from torch.utils.data import TensorDataset, DataLoader\n",
    "from tqdm.notebook import tqdm\n",
    "import seaborn as sns\n",
    "from matplotlib import pyplot as plt\n",
    "from hsml.schema import Schema\n",
    "from hsml.model_schema import ModelSchema\n",
    "import numpy as np\n",
    "import joblib\n",
    "import torch\n",
    "import torch.nn as nn\n",
    "import torch.optim as optim\n",
    "import os"
   ]
  },
  {
   "cell_type": "code",
   "execution_count": 2,
   "id": "5ce90341",
   "metadata": {
    "ExecuteTime": {
     "start_time": "2024-01-05T18:20:14.917609Z",
     "end_time": "2024-01-05T18:20:16.343723Z"
    }
   },
   "outputs": [
    {
     "name": "stdout",
     "output_type": "stream",
     "text": [
      "Connected. Call `.close()` to terminate connection gracefully.\n",
      "\n",
      "Logged in to project, explore it here https://c.app.hopsworks.ai:443/p/191638\n",
      "Connected. Call `.close()` to terminate connection gracefully.\n"
     ]
    }
   ],
   "source": [
    "# You have to set the environment variable 'HOPSWORKS_API_KEY' for login to succeed\n",
    "project = hopsworks.login()\n",
    "fs = project.get_feature_store()"
   ]
  },
  {
   "cell_type": "code",
   "execution_count": 3,
   "id": "359ed7b3",
   "metadata": {
    "ExecuteTime": {
     "start_time": "2024-01-05T18:20:16.343723Z",
     "end_time": "2024-01-05T18:20:16.609169Z"
    }
   },
   "outputs": [
    {
     "data": {
      "text/plain": "'\\nfeature_view = fs.get_or_create_feature_view(name=\"weather\",\\n                                  version=1,\\n                                  description=\"\",\\n                                  labels=[\\'temperature_2m\\', \\'apparent_temperature\\', \\'rain\\', \\'snowfall\\', \\'surface_pressure\\', \\'cloud_cover\\', \\'wind_speed_10m\\', \\'wind_direction_10m\\', \\'day_cos\\', \\'day_sin\\', \\'hour_cos\\', \\'hour_sin\\'],\\n                                  query=query)\\n# You can read training data, randomly split into train/test sets of features (X) and labels (y)\\n\\nX_train, X_test, y_train, y_test = feature_view.train_test_split(\\n    train_start=\"2023-01-01\",\\n    train_end=\"2023-09-13\",    \\n    test_start=\"2023-09-14\", \\n    test_end=\"2023-12-31\", \\n    description=\\'Weather dataset for 2023\\'\\n)\\n'"
     },
     "execution_count": 3,
     "metadata": {},
     "output_type": "execute_result"
    }
   ],
   "source": [
    "# The feature view is the input set of features for your model. The features can come from different feature groups.    \n",
    "# You can select features from different feature groups and join them together to create a feature view\n",
    "weather_fg = fs.get_feature_group(name=\"weather\", version=1)\n",
    "#query = weather_fg.select_all()\n",
    "\"\"\"\n",
    "feature_view = fs.get_or_create_feature_view(name=\"weather\",\n",
    "                                  version=1,\n",
    "                                  description=\"\",\n",
    "                                  labels=['temperature_2m', 'apparent_temperature', 'rain', 'snowfall', 'surface_pressure', 'cloud_cover', 'wind_speed_10m', 'wind_direction_10m', 'day_cos', 'day_sin', 'hour_cos', 'hour_sin'],\n",
    "                                  query=query)\n",
    "# You can read training data, randomly split into train/test sets of features (X) and labels (y)\n",
    "\n",
    "X_train, X_test, y_train, y_test = feature_view.train_test_split(\n",
    "    train_start=\"2023-01-01\",\n",
    "    train_end=\"2023-09-13\",    \n",
    "    test_start=\"2023-09-14\", \n",
    "    test_end=\"2023-12-31\", \n",
    "    description='Weather dataset for 2023'\n",
    ")\n",
    "\"\"\""
   ]
  },
  {
   "cell_type": "code",
   "execution_count": 4,
   "outputs": [
    {
     "name": "stdout",
     "output_type": "stream",
     "text": [
      "Finished: Reading data from Hopsworks, using ArrowFlight (2.11s) from Hopsworks, using ArrowFlight.   \n",
      "                           date  temperature_2m  apparent_temperature  rain  \\\n",
      "0     2021-09-02 05:00:00+00:00        8.014999              4.672139   0.0   \n",
      "1     2019-10-05 11:00:00+00:00        6.965000              2.668015   0.0   \n",
      "2     2021-03-04 08:00:00+00:00       -0.585000             -5.597241   0.0   \n",
      "3     2023-10-05 23:00:00+00:00        6.265000              3.872746   0.0   \n",
      "4     2018-04-13 04:00:00+00:00        0.165000             -4.198921   0.0   \n",
      "...                         ...             ...                   ...   ...   \n",
      "52435 2020-07-11 08:00:00+00:00       13.514999             11.995792   0.0   \n",
      "52436 2020-02-28 00:00:00+00:00       -2.735000             -6.774117   0.0   \n",
      "52437 2022-03-18 23:00:00+00:00        0.015000             -4.083844   0.0   \n",
      "52438 2022-07-26 05:00:00+00:00       17.565001             18.175024   0.8   \n",
      "52439 2023-11-25 10:00:00+00:00       -3.985000             -9.882341   0.0   \n",
      "\n",
      "       snowfall  surface_pressure  cloud_cover  wind_speed_10m  \\\n",
      "0          0.00       1018.825623    15.900001       13.397612   \n",
      "1          0.00       1017.717712    66.900002       14.241630   \n",
      "2          0.00       1012.051880     0.900000       14.777550   \n",
      "3          0.00       1013.821472     0.000000        6.877790   \n",
      "4          0.00       1023.525940     4.500000       12.181625   \n",
      "...         ...               ...          ...             ...   \n",
      "52435      0.00       1004.623352   100.000000       12.783802   \n",
      "52436      0.00        996.076233    19.200001        9.449572   \n",
      "52437      0.00       1042.467041     0.000000       10.972620   \n",
      "52438      0.00        996.486450   100.000000       14.332341   \n",
      "52439      0.07        998.654236   100.000000       19.296135   \n",
      "\n",
      "       wind_direction_10m   day_cos   day_sin  hour_cos  hour_sin  \n",
      "0              300.699646 -0.474951 -0.880012  0.258819  0.965926  \n",
      "1              339.274353  0.073095 -0.997325 -0.965926  0.258819  \n",
      "2              325.922760  0.467359  0.884068 -0.500000  0.866025  \n",
      "3              263.991089  0.073095 -0.997325  0.965926 -0.258819  \n",
      "4               71.029503 -0.200891  0.979614  0.500000  0.866025  \n",
      "...                   ...       ...       ...       ...       ...  \n",
      "52435          302.347412 -0.983709 -0.179767 -0.500000  0.866025  \n",
      "52436           40.364468  0.527078  0.849817  1.000000  0.000000  \n",
      "52437          318.990997  0.242850  0.970064  0.965926 -0.258819  \n",
      "52438          191.592148 -0.912375 -0.409356  0.258819  0.965926  \n",
      "52439          323.343781  0.814046 -0.580800 -0.866025  0.500000  \n",
      "\n",
      "[52440 rows x 13 columns]\n"
     ]
    }
   ],
   "source": [
    "X_data = weather_fg.read()\n",
    "print(X_data)\n",
    "# Use less data for testing\n",
    "raw_X_data = X_data.sort_values(by='date').drop(columns=['date'])\n",
    "raw_X_data = raw_X_data.to_numpy()\n",
    "# Scale the input data!\n",
    "\n",
    "scaler = StandardScaler()\n",
    "scaler.fit(raw_X_data[:, :8])\n",
    "raw_X_data[:, :8] = scaler.transform(raw_X_data[:, :8])\n"
   ],
   "metadata": {
    "collapsed": false,
    "ExecuteTime": {
     "start_time": "2024-01-05T18:20:16.610169Z",
     "end_time": "2024-01-05T18:20:20.149213Z"
    }
   }
  },
  {
   "cell_type": "code",
   "execution_count": 5,
   "outputs": [],
   "source": [
    "# For LSTM model only\n",
    "def create_windows(data, window_size, step=1):\n",
    "    X, y = [], []\n",
    "    for i in range(0, len(data) - window_size, step):\n",
    "        # Create sequences (windows) of data\n",
    "        X.append(data[i:(i + window_size)])\n",
    "        # Append the target variable, the next value after the window\n",
    "        y.append(data[i + window_size, :8])\n",
    "    return np.array(X), np.array(y)\n",
    "\n",
    "X_data, Y_data = create_windows(raw_X_data, 24)\n",
    "\n",
    "X_train, X_test, Y_train, Y_test = train_test_split(X_data.copy(), Y_data.copy(), test_size=0.2, random_state=42, shuffle=True)"
   ],
   "metadata": {
    "collapsed": false,
    "ExecuteTime": {
     "start_time": "2024-01-05T18:20:20.164377Z",
     "end_time": "2024-01-05T18:20:20.233943Z"
    }
   }
  },
  {
   "cell_type": "code",
   "execution_count": 6,
   "outputs": [],
   "source": [
    "class LSTMWeatherModel(nn.Module):\n",
    "    def __init__(self, n_input, n_hidden, n_out, num_layers):\n",
    "        super(LSTMWeatherModel, self).__init__()\n",
    "\n",
    "        self.num_layers = num_layers\n",
    "        self.hidden_layer_size = n_hidden\n",
    "\n",
    "        # Stacked LSTM layer\n",
    "        self.lstm = nn.LSTM(n_input, n_hidden, num_layers, batch_first=True)\n",
    "\n",
    "        self.linear1 = nn.Linear(n_hidden, n_hidden)\n",
    "        self.linear2 = nn.Linear(n_hidden, n_hidden)\n",
    "        self.linear3 = nn.Linear(n_hidden, n_out)\n",
    "\n",
    "\n",
    "    def forward(self, x):\n",
    "        # Stacked LSTM\n",
    "        h0 = torch.zeros(self.num_layers, x.size(0), self.hidden_layer_size).to(x.device)\n",
    "        c0 = torch.zeros(self.num_layers, x.size(0), self.hidden_layer_size).to(x.device)\n",
    "        x, _ = self.lstm(x, (h0, c0))\n",
    "        x = x[:, -1, :]\n",
    "\n",
    "        # Regular feed forward network\n",
    "        x = torch.relu(self.linear1(x))\n",
    "        x = torch.relu(self.linear2(x))\n",
    "        x = self.linear3(x)\n",
    "        return x\n",
    "\n",
    "n_input = 12 # Number of features\n",
    "n_hidden = 128  # Number of hidden nodes\n",
    "n_out = 8 # Number of classes\n",
    "num_layers = 2\n",
    "\n",
    "\n",
    "model = LSTMWeatherModel(n_input, n_hidden, n_out, num_layers)"
   ],
   "metadata": {
    "collapsed": false,
    "ExecuteTime": {
     "start_time": "2024-01-05T18:20:43.913887Z",
     "end_time": "2024-01-05T18:20:43.918658Z"
    }
   }
  },
  {
   "cell_type": "code",
   "execution_count": 7,
   "id": "42fbcfd3",
   "metadata": {
    "ExecuteTime": {
     "start_time": "2024-01-05T18:20:45.659839Z",
     "end_time": "2024-01-05T18:23:15.048616Z"
    }
   },
   "outputs": [
    {
     "data": {
      "text/plain": "Epoch 1/50:   0%|          | 0/50 [00:00<?, ?it/s]",
      "application/vnd.jupyter.widget-view+json": {
       "version_major": 2,
       "version_minor": 0,
       "model_id": "9fb1297f7dab49afb8080ef2477734c8"
      }
     },
     "metadata": {},
     "output_type": "display_data"
    }
   ],
   "source": [
    "# Hyper-parameters\n",
    "epochs = 50\n",
    "batch_size = 512\n",
    "learning_rate = 0.0005\n",
    "w_decay = 0.0005\n",
    "\n",
    "# Define loss function, optimizer, and convert data to tensors\n",
    "loss_fun = nn.MSELoss()\n",
    "optimizer = optim.AdamW(model.parameters(), lr=learning_rate, weight_decay=w_decay)\n",
    "x_train = torch.tensor(X_train, dtype=torch.float32)\n",
    "y_train = torch.tensor(Y_train, dtype=torch.float32)\n",
    "x_test = torch.tensor(X_test, dtype=torch.float32)\n",
    "y_test = torch.tensor(Y_test, dtype=torch.float32)\n",
    "\n",
    "# Create TensorDatasets\n",
    "train_dataset = TensorDataset(x_train, y_train)\n",
    "test_dataset = TensorDataset(x_test, y_test)\n",
    "\n",
    "# Define dataloader\n",
    "train_loader = DataLoader(train_dataset, batch_size=batch_size, shuffle=True)\n",
    "test_loader = DataLoader(test_dataset, batch_size=batch_size)\n",
    "\n",
    "train_loss_array = []\n",
    "val_loss_array = []\n",
    "\n",
    "# Training loop\n",
    "epoch_loop = tqdm(range(epochs), desc=f\"Epoch {1}/{epochs}\")\n",
    "for epoch in epoch_loop:\n",
    "    train_loss = 0\n",
    "    val_loss = 0\n",
    "\n",
    "    for batch_x, batch_y in train_loader:\n",
    "        optimizer.zero_grad()\n",
    "        outputs = model(batch_x)\n",
    "        loss = loss_fun(outputs, batch_y)\n",
    "        loss.backward()\n",
    "        optimizer.step()\n",
    "        train_loss += loss.item()\n",
    "    train_loss /= len(train_loader)\n",
    "\n",
    "    # Validation loop with tqdm\n",
    "    with torch.no_grad():\n",
    "        for batch_x, batch_y in test_loader:\n",
    "            outputs = model(batch_x)\n",
    "            val_loss += loss_fun(outputs, batch_y).item()\n",
    "        val_loss /= len(test_loader)\n",
    "        epoch_loop.set_description(f\"Epoch {epoch + 1}/{epochs} [Train Loss: {train_loss:.4f}] [Validation Loss: {val_loss:.4f}]\")\n",
    "\n",
    "        train_loss_array.append(train_loss)\n",
    "        val_loss_array.append(val_loss)\n"
   ]
  },
  {
   "cell_type": "code",
   "execution_count": 8,
   "id": "7c8f56c4",
   "metadata": {
    "ExecuteTime": {
     "start_time": "2024-01-05T18:23:16.480303Z",
     "end_time": "2024-01-05T18:23:16.556405Z"
    }
   },
   "outputs": [
    {
     "data": {
      "text/plain": "<Figure size 640x480 with 1 Axes>",
      "image/png": "[encoded data removed]"
     },
     "metadata": {},
     "output_type": "display_data"
    }
   ],
   "source": [
    "plt.plot(range(len(train_loss_array)), train_loss_array, label='Train loss')\n",
    "plt.plot(range(len(val_loss_array)), val_loss_array, label='Validation loss')\n",
    "plt.legend()\n",
    "plt.show()"
   ]
  },
  {
   "cell_type": "code",
   "execution_count": 11,
   "outputs": [
    {
     "data": {
      "text/plain": "<Figure size 640x480 with 1 Axes>",
      "image/png": "[encoded data removed]"
     },
     "metadata": {},
     "output_type": "display_data"
    },
    {
     "name": "stdout",
     "output_type": "stream",
     "text": [
      "[[[-8.01618234e-01 -8.19173893e-01  1.13806657e+00 ...  6.43249060e-16\n",
      "    9.65925826e-01 -2.58819045e-01]\n",
      "  [-7.89371322e-01 -7.41146611e-01  1.13806677e+00 ...  1.72133562e-02\n",
      "    1.00000000e+00  0.00000000e+00]\n",
      "  [-7.09766307e-01 -6.91681007e-01  4.63561517e-01 ...  1.72133562e-02\n",
      "    9.65925826e-01  2.58819045e-01]\n",
      "  ...\n",
      "  [-5.87297071e-01 -5.41219031e-01  4.63561517e-01 ...  1.72133562e-02\n",
      "    5.00000000e-01 -8.66025404e-01]\n",
      "  [-7.22013248e-01 -7.50046260e-01  8.00814120e-01 ...  1.72133562e-02\n",
      "    7.07106781e-01 -7.07106781e-01]\n",
      "  [-8.07741719e-01 -8.69213926e-01  1.26308938e-01 ...  1.72133562e-02\n",
      "    8.66025404e-01 -5.00000000e-01]]\n",
      "\n",
      " [[-7.89371322e-01 -7.41146611e-01  1.13806677e+00 ...  1.72133562e-02\n",
      "    1.00000000e+00  0.00000000e+00]\n",
      "  [-7.09766307e-01 -6.91681007e-01  4.63561517e-01 ...  1.72133562e-02\n",
      "    9.65925826e-01  2.58819045e-01]\n",
      "  [-6.54655145e-01 -6.27938363e-01 -2.10943640e-01 ...  1.72133562e-02\n",
      "    8.66025404e-01  5.00000000e-01]\n",
      "  ...\n",
      "  [-7.22013248e-01 -7.50046260e-01  8.00814120e-01 ...  1.72133562e-02\n",
      "    7.07106781e-01 -7.07106781e-01]\n",
      "  [-8.07741719e-01 -8.69213926e-01  1.26308938e-01 ...  1.72133562e-02\n",
      "    8.66025404e-01 -5.00000000e-01]\n",
      "  [-8.07741719e-01 -8.28401490e-01 -2.10943640e-01 ...  1.72133562e-02\n",
      "    9.65925826e-01 -2.58819045e-01]]\n",
      "\n",
      " [[-7.09766307e-01 -6.91681007e-01  4.63561517e-01 ...  1.72133562e-02\n",
      "    9.65925826e-01  2.58819045e-01]\n",
      "  [-6.54655145e-01 -6.27938363e-01 -2.10943640e-01 ...  1.72133562e-02\n",
      "    8.66025404e-01  5.00000000e-01]\n",
      "  [-6.05667468e-01 -5.46154979e-01 -2.10943640e-01 ...  1.72133562e-02\n",
      "    7.07106781e-01  7.07106781e-01]\n",
      "  ...\n",
      "  [-8.07741719e-01 -8.69213926e-01  1.26308938e-01 ...  1.72133562e-02\n",
      "    8.66025404e-01 -5.00000000e-01]\n",
      "  [-8.07741719e-01 -8.28401490e-01 -2.10943640e-01 ...  1.72133562e-02\n",
      "    9.65925826e-01 -2.58819045e-01]\n",
      "  [-8.19988631e-01 -8.05168164e-01 -2.10943640e-01 ...  3.44216116e-02\n",
      "    1.00000000e+00  0.00000000e+00]]\n",
      "\n",
      " ...\n",
      "\n",
      " [[-1.23026056e+00 -1.20720442e+00 -2.10943640e-01 ... -1.20208045e-01\n",
      "    5.00000000e-01 -8.66025404e-01]\n",
      "  [-1.10166787e+00 -1.11388680e+00 -2.10943640e-01 ... -1.20208045e-01\n",
      "    7.07106781e-01 -7.07106781e-01]\n",
      "  [-1.02818633e+00 -1.06600194e+00 -2.10943640e-01 ... -1.20208045e-01\n",
      "    8.66025404e-01 -5.00000000e-01]\n",
      "  ...\n",
      "  [-9.73075177e-01 -8.44077124e-01 -2.10943640e-01 ... -1.03101697e-01\n",
      "   -2.58819045e-01 -9.65925826e-01]\n",
      "  [-9.79198639e-01 -8.38734717e-01 -2.10943640e-01 ... -1.03101697e-01\n",
      "   -1.83697020e-16 -1.00000000e+00]\n",
      "  [-9.85322102e-01 -8.39686356e-01 -2.10943640e-01 ... -1.03101697e-01\n",
      "    2.58819045e-01 -9.65925826e-01]]\n",
      "\n",
      " [[-1.10166787e+00 -1.11388680e+00 -2.10943640e-01 ... -1.20208045e-01\n",
      "    7.07106781e-01 -7.07106781e-01]\n",
      "  [-1.02818633e+00 -1.06600194e+00 -2.10943640e-01 ... -1.20208045e-01\n",
      "    8.66025404e-01 -5.00000000e-01]\n",
      "  [-9.73075177e-01 -1.01671670e+00 -2.10943640e-01 ... -1.20208045e-01\n",
      "    9.65925826e-01 -2.58819045e-01]\n",
      "  ...\n",
      "  [-9.79198639e-01 -8.38734717e-01 -2.10943640e-01 ... -1.03101697e-01\n",
      "   -1.83697020e-16 -1.00000000e+00]\n",
      "  [-9.85322102e-01 -8.39686356e-01 -2.10943640e-01 ... -1.03101697e-01\n",
      "    2.58819045e-01 -9.65925826e-01]\n",
      "  [-1.00369248e+00 -8.37599018e-01 -2.10943640e-01 ... -1.03101697e-01\n",
      "    5.00000000e-01 -8.66025404e-01]]\n",
      "\n",
      " [[-1.02818633e+00 -1.06600194e+00 -2.10943640e-01 ... -1.20208045e-01\n",
      "    8.66025404e-01 -5.00000000e-01]\n",
      "  [-9.73075177e-01 -1.01671670e+00 -2.10943640e-01 ... -1.20208045e-01\n",
      "    9.65925826e-01 -2.58819045e-01]\n",
      "  [-9.42457868e-01 -9.72525969e-01 -2.10943640e-01 ... -1.03101697e-01\n",
      "    1.00000000e+00  0.00000000e+00]\n",
      "  ...\n",
      "  [-9.85322102e-01 -8.39686356e-01 -2.10943640e-01 ... -1.03101697e-01\n",
      "    2.58819045e-01 -9.65925826e-01]\n",
      "  [-1.00369248e+00 -8.37599018e-01 -2.10943640e-01 ... -1.03101697e-01\n",
      "    5.00000000e-01 -8.66025404e-01]\n",
      "  [-1.02206287e+00 -8.34499531e-01 -2.10943640e-01 ... -1.03101697e-01\n",
      "    7.07106781e-01 -7.07106781e-01]]]\n"
     ]
    }
   ],
   "source": [
    "# Try to plot features over 2 days amd compare to true values\n",
    "test_data = raw_X_data.copy()[2000:2048]\n",
    "\n",
    "test_x_data, test_y_data = create_windows(test_data, 24)\n",
    "\n",
    "predictions = model(torch.tensor(test_x_data, dtype=torch.float32))\n",
    "\n",
    "predictions = scaler.inverse_transform(predictions.detach().numpy())\n",
    "outcomes = scaler.inverse_transform(test_y_data)\n",
    "plt.plot(range(24), predictions[:, 0], label='Predictions')\n",
    "plt.plot(range(24), outcomes[:, 0], label='Outcomes')\n",
    "plt.legend()\n",
    "plt.show()\n",
    "\n",
    "print(X_data)"
   ],
   "metadata": {
    "collapsed": false,
    "ExecuteTime": {
     "start_time": "2024-01-05T18:23:49.967044Z",
     "end_time": "2024-01-05T18:23:50.042424Z"
    }
   }
  },
  {
   "cell_type": "code",
   "execution_count": 12,
   "id": "bcfdfc4f",
   "metadata": {
    "ExecuteTime": {
     "start_time": "2024-01-05T18:23:53.130103Z",
     "end_time": "2024-01-05T18:24:06.477118Z"
    }
   },
   "outputs": [
    {
     "name": "stdout",
     "output_type": "stream",
     "text": [
      "Connected. Call `.close()` to terminate connection gracefully.\n"
     ]
    },
    {
     "data": {
      "text/plain": "  0%|          | 0/6 [00:00<?, ?it/s]",
      "application/vnd.jupyter.widget-view+json": {
       "version_major": 2,
       "version_minor": 0,
       "model_id": "ed5996069f3943c697626252dce4eb40"
      }
     },
     "metadata": {},
     "output_type": "display_data"
    },
    {
     "data": {
      "text/plain": "Uploading: 0.000%|          | 0/807 elapsed<00:00 remaining<?",
      "application/vnd.jupyter.widget-view+json": {
       "version_major": 2,
       "version_minor": 0,
       "model_id": "0e86aa981b714d2daa0e80958b64d00b"
      }
     },
     "metadata": {},
     "output_type": "display_data"
    },
    {
     "data": {
      "text/plain": "Uploading: 0.000%|          | 0/972393 elapsed<00:00 remaining<?",
      "application/vnd.jupyter.widget-view+json": {
       "version_major": 2,
       "version_minor": 0,
       "model_id": "7b962ce2ec9349b28a2ee1c21aff7c51"
      }
     },
     "metadata": {},
     "output_type": "display_data"
    },
    {
     "data": {
      "text/plain": "Uploading: 0.000%|          | 0/235 elapsed<00:00 remaining<?",
      "application/vnd.jupyter.widget-view+json": {
       "version_major": 2,
       "version_minor": 0,
       "model_id": "9bf5710589a14ee6869aa8300d8ec692"
      }
     },
     "metadata": {},
     "output_type": "display_data"
    },
    {
     "name": "stdout",
     "output_type": "stream",
     "text": [
      "Model created, explore it at https://c.app.hopsworks.ai:443/p/191638/models/weather_model/1\n"
     ]
    },
    {
     "data": {
      "text/plain": "Model(name: 'weather_model', version: 1)"
     },
     "execution_count": 12,
     "metadata": {},
     "output_type": "execute_result"
    }
   ],
   "source": [
    "# We will now upload our model to the Hopsworks Model Registry. First get an object for the model registry.\n",
    "mr = project.get_model_registry()\n",
    "\n",
    "# The contents of the 'iris_model' directory will be saved to the model registry. Create the dir, first.\n",
    "model_dir=\"trained_models\"\n",
    "if os.path.isdir(model_dir) == False:\n",
    "    os.mkdir(model_dir)\n",
    "\n",
    "# Save both our model and the confusion matrix to 'model_dir', whose contents will be uploaded to the model registry\n",
    "model_scripted = torch.jit.script(model)\n",
    "model_scripted.save(model_dir + '/weather_model.pth')\n",
    "\n",
    "# Save the standardizer since it is needed for inference!\n",
    "joblib.dump(scaler, model_dir + '/scaler.save')\n",
    "\n",
    "# Specify the schema of the model's input/output using the features (X_train) and labels (y_train)\n",
    "input_schema = Schema(X_train)\n",
    "output_schema = Schema(Y_train)\n",
    "model_schema = ModelSchema(input_schema, output_schema)\n",
    "\n",
    "# Create an entry in the model registry that includes the model's name, desc, metrics\n",
    "weather_model = mr.python.create_model(\n",
    "    name=\"weather_model\",\n",
    "    metrics={\"Validation MSE\" : val_loss_array[-1]},\n",
    "    model_schema=model_schema,\n",
    "    description=\"Weather predictor for Stockholm\"\n",
    ")\n",
    "\n",
    "# Upload the model to the model registry, including all files in 'model_dir'\n",
    "weather_model.save(model_dir)"
   ]
  }
 ],
 "metadata": {
  "kernelspec": {
   "display_name": "Python 3 (ipykernel)",
   "language": "python",
   "name": "python3"
  },
  "language_info": {
   "codemirror_mode": {
    "name": "ipython",
    "version": 3
   },
   "file_extension": ".py",
   "mimetype": "text/x-python",
   "name": "python",
   "nbconvert_exporter": "python",
   "pygments_lexer": "ipython3",
   "version": "3.10.0"
  }
 },
 "nbformat": 4,
 "nbformat_minor": 5
}
