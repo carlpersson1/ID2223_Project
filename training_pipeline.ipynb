{
 "cells": [
  {
   "cell_type": "code",
   "execution_count": 1,
   "id": "063d9a22",
   "metadata": {
    "ExecuteTime": {
     "end_time": "2023-11-15T23:01:54.568702Z",
     "start_time": "2023-11-15T23:01:50.872428Z"
    }
   },
   "outputs": [
    {
     "name": "stdout",
     "output_type": "stream",
     "text": [
      "2023-11-15 23:01:54,433 WARNING: From C:\\Users\\carl\\PycharmProjects\\ID2223_lab1\\venv\\Lib\\site-packages\\keras\\src\\losses.py:2976: The name tf.losses.sparse_softmax_cross_entropy is deprecated. Please use tf.compat.v1.losses.sparse_softmax_cross_entropy instead.\n",
      "\n"
     ]
    }
   ],
   "source": [
    "import hopsworks\n",
    "import pandas as pd\n",
    "from sklearn.metrics import accuracy_score\n",
    "from sklearn.metrics import confusion_matrix\n",
    "from sklearn.metrics import classification_report\n",
    "import seaborn as sns\n",
    "from matplotlib import pyplot\n",
    "from hsml.schema import Schema\n",
    "from hsml.model_schema import ModelSchema\n",
    "import numpy as np\n",
    "import joblib\n",
    "import torch\n",
    "import torch.nn as nn\n",
    "import torch.optim as optim\n",
    "import os"
   ]
  },
  {
   "cell_type": "code",
   "execution_count": 4,
   "id": "5ce90341",
   "metadata": {
    "ExecuteTime": {
     "end_time": "2023-11-15T23:02:09.085043Z",
     "start_time": "2023-11-15T23:02:07.630634Z"
    }
   },
   "outputs": [
    {
     "name": "stdout",
     "output_type": "stream",
     "text": [
      "Connected. Call `.close()` to terminate connection gracefully.\n",
      "\n",
      "Logged in to project, explore it here https://c.app.hopsworks.ai:443/p/191638\n",
      "Connected. Call `.close()` to terminate connection gracefully.\n"
     ]
    }
   ],
   "source": [
    "# You have to set the environment variable 'HOPSWORKS_API_KEY' for login to succeed\n",
    "project = hopsworks.login()\n",
    "fs = project.get_feature_store()"
   ]
  },
  {
   "cell_type": "code",
   "execution_count": 5,
   "id": "359ed7b3",
   "metadata": {
    "ExecuteTime": {
     "end_time": "2023-11-15T23:02:15.195869Z",
     "start_time": "2023-11-15T23:02:09.085043Z"
    }
   },
   "outputs": [
    {
     "name": "stdout",
     "output_type": "stream",
     "text": [
      "Finished: Reading data from Hopsworks, using ArrowFlight (1.05s) \n"
     ]
    },
    {
     "name": "stderr",
     "output_type": "stream",
     "text": [
      "VersionWarning: Incremented version to `13`.\n"
     ]
    }
   ],
   "source": [
    "# The feature view is the input set of features for your model. The features can come from different feature groups.    \n",
    "# You can select features from different feature groups and join them together to create a feature view\n",
    "weather_fg = fs.get_feature_group(name=\"weather\", version=1)\n",
    "query = weather_fg.select_all()\n",
    "feature_view = fs.get_or_create_feature_view(name=\"weather\",\n",
    "                                  version=1,\n",
    "                                  description=\"\",\n",
    "                                  labels=[\"temperature_2m\", \"apparent_temperature\", \"rain\", 'snowfall', 'surface_pressure', 'cloud_cover', 'wind_speed_10m', 'wind_direction_10m'],\n",
    "                                  query=query)\n",
    "# You can read training data, randomly split into train/test sets of features (X) and labels (y)\n",
    "X_train, X_test, y_train, y_test = feature_view.train_test_split(\n",
    "    train_start=\"2023-01-01\",\n",
    "    train_end=\"2023-09-13\",    \n",
    "    test_start=\"2023-09-14\", \n",
    "    test_end=\"2023-12-31\", \n",
    "    description='Weather dataset for 2023'\n",
    ")"
   ]
  },
  {
   "cell_type": "code",
   "execution_count": 6,
   "id": "42fbcfd3",
   "metadata": {
    "ExecuteTime": {
     "end_time": "2023-11-15T22:50:34.426976Z",
     "start_time": "2023-11-15T22:50:33.414047Z"
    }
   },
   "outputs": [],
   "source": [
    "n_input = 8 # Number of features\n",
    "n_hidden = 256  # Number of hidden nodes\n",
    "n_out = 8 # Number of classes\n",
    "\n",
    "class WeatherModel(nn.Module):\n",
    "    def __init__(self):\n",
    "        super(WeatherModel, self).__init__()\n",
    "        self.fc1 = nn.Linear(n_input, n_hidden)\n",
    "        self.bn1 = nn.BatchNorm1d(n_hidden)\n",
    "        self.fc2 = nn.Linear(n_hidden, n_hidden)\n",
    "        self.bn2 = nn.BatchNorm1d(n_hidden)\n",
    "        self.fc3 = nn.Linear(n_hidden, n_hidden)\n",
    "        self.bn3 = nn.BatchNorm1d(n_hidden)\n",
    "        self.fc4 = nn.Linear(n_hidden, n_hidden)\n",
    "        self.bn4 = nn.BatchNorm1d(n_hidden)\n",
    "        self.fc5 = nn.Linear(n_hidden, n_hidden)\n",
    "        self.out = nn.Linear(n_hidden, n_out)\n",
    "\n",
    "    def forward(self, x):\n",
    "        x = torch.relu(self.bn1(self.fc1(x)))\n",
    "        x = torch.relu(self.bn2(self.fc2(x)))\n",
    "        x = torch.relu(self.bn3(self.fc3(x)))\n",
    "        x = torch.relu(self.bn4(self.fc4(x)))\n",
    "        x = self.out(self.fc5(x))\n",
    "        return torch.softmax(x, dim=1)\n",
    "\n",
    "model = WeatherModel()\n",
    "\n",
    "# Define loss function, optimizer, and convert data to tensors\n",
    "criterion = nn.CrossEntropyLoss()\n",
    "optimizer = optim.Adam(model.parameters(), lr=0.00025)\n",
    "X_train = torch.tensor(X_train)\n",
    "y_train = torch.tensor(y_train)\n",
    "X_test = torch.tensor(X_test)\n",
    "y_test = torch.tensor(y_test)\n",
    "\n",
    "# Training loop\n",
    "epochs = 150\n",
    "batch_size = 256\n",
    "for epoch in range(epochs):\n",
    "    for i in range(0, len(X_train), batch_size):\n",
    "        optimizer.zero_grad()\n",
    "        batch_x, batch_y = X_train[i:i+batch_size], y_train[i:i+batch_size]\n",
    "        outputs = model(batch_x)\n",
    "        loss = criterion(outputs, batch_y)\n",
    "        loss.backward()\n",
    "        optimizer.step()\n",
    "    \n",
    "    # Validation\n",
    "    with torch.no_grad():\n",
    "        outputs = model(X_test)\n",
    "        _, predicted = torch.max(outputs, 1)\n",
    "        accuracy = (predicted == y_test).sum().item() / len(y_test)\n",
    "        print(f'Epoch [{epoch + 1}/{epochs}], Loss: {loss.item()}, Accuracy: {accuracy}')"
   ]
  },
  {
   "cell_type": "code",
   "execution_count": 19,
   "id": "7c8f56c4",
   "metadata": {
    "ExecuteTime": {
     "end_time": "2023-11-15T23:03:34.325228Z",
     "start_time": "2023-11-15T23:03:34.314109Z"
    }
   },
   "outputs": [
    {
     "data": {
      "text/html": [
       "<div>\n",
       "<style scoped>\n",
       "    .dataframe tbody tr th:only-of-type {\n",
       "        vertical-align: middle;\n",
       "    }\n",
       "\n",
       "    .dataframe tbody tr th {\n",
       "        vertical-align: top;\n",
       "    }\n",
       "\n",
       "    .dataframe thead th {\n",
       "        text-align: right;\n",
       "    }\n",
       "</style>\n",
       "<table border=\"1\" class=\"dataframe\">\n",
       "  <thead>\n",
       "    <tr style=\"text-align: right;\">\n",
       "      <th></th>\n",
       "      <th>type</th>\n",
       "      <th>volatile_acidity</th>\n",
       "      <th>citric_acid</th>\n",
       "      <th>chlorides</th>\n",
       "      <th>total_sulfur_dioxide</th>\n",
       "      <th>density</th>\n",
       "      <th>alcohol</th>\n",
       "    </tr>\n",
       "  </thead>\n",
       "  <tbody>\n",
       "    <tr>\n",
       "      <th>0</th>\n",
       "      <td>0</td>\n",
       "      <td>0.28</td>\n",
       "      <td>0.14</td>\n",
       "      <td>0.032</td>\n",
       "      <td>142.0</td>\n",
       "      <td>0.99542</td>\n",
       "      <td>9.500000</td>\n",
       "    </tr>\n",
       "    <tr>\n",
       "      <th>1</th>\n",
       "      <td>0</td>\n",
       "      <td>0.25</td>\n",
       "      <td>0.41</td>\n",
       "      <td>0.042</td>\n",
       "      <td>173.0</td>\n",
       "      <td>0.99650</td>\n",
       "      <td>9.100000</td>\n",
       "    </tr>\n",
       "    <tr>\n",
       "      <th>2</th>\n",
       "      <td>0</td>\n",
       "      <td>0.33</td>\n",
       "      <td>0.27</td>\n",
       "      <td>0.036</td>\n",
       "      <td>134.0</td>\n",
       "      <td>0.99270</td>\n",
       "      <td>10.400000</td>\n",
       "    </tr>\n",
       "    <tr>\n",
       "      <th>4</th>\n",
       "      <td>0</td>\n",
       "      <td>0.28</td>\n",
       "      <td>0.31</td>\n",
       "      <td>0.046</td>\n",
       "      <td>208.0</td>\n",
       "      <td>0.99434</td>\n",
       "      <td>9.800000</td>\n",
       "    </tr>\n",
       "    <tr>\n",
       "      <th>5</th>\n",
       "      <td>0</td>\n",
       "      <td>0.51</td>\n",
       "      <td>0.25</td>\n",
       "      <td>0.048</td>\n",
       "      <td>177.0</td>\n",
       "      <td>0.99212</td>\n",
       "      <td>10.566667</td>\n",
       "    </tr>\n",
       "    <tr>\n",
       "      <th>...</th>\n",
       "      <td>...</td>\n",
       "      <td>...</td>\n",
       "      <td>...</td>\n",
       "      <td>...</td>\n",
       "      <td>...</td>\n",
       "      <td>...</td>\n",
       "      <td>...</td>\n",
       "    </tr>\n",
       "    <tr>\n",
       "      <th>5264</th>\n",
       "      <td>0</td>\n",
       "      <td>0.20</td>\n",
       "      <td>0.26</td>\n",
       "      <td>0.046</td>\n",
       "      <td>143.0</td>\n",
       "      <td>0.99526</td>\n",
       "      <td>10.800000</td>\n",
       "    </tr>\n",
       "    <tr>\n",
       "      <th>5265</th>\n",
       "      <td>0</td>\n",
       "      <td>0.28</td>\n",
       "      <td>0.36</td>\n",
       "      <td>0.038</td>\n",
       "      <td>101.0</td>\n",
       "      <td>0.99120</td>\n",
       "      <td>11.600000</td>\n",
       "    </tr>\n",
       "    <tr>\n",
       "      <th>5266</th>\n",
       "      <td>0</td>\n",
       "      <td>0.18</td>\n",
       "      <td>0.31</td>\n",
       "      <td>0.058</td>\n",
       "      <td>167.0</td>\n",
       "      <td>0.99310</td>\n",
       "      <td>10.000000</td>\n",
       "    </tr>\n",
       "    <tr>\n",
       "      <th>5267</th>\n",
       "      <td>0</td>\n",
       "      <td>0.35</td>\n",
       "      <td>0.25</td>\n",
       "      <td>0.051</td>\n",
       "      <td>182.0</td>\n",
       "      <td>0.99946</td>\n",
       "      <td>9.300000</td>\n",
       "    </tr>\n",
       "    <tr>\n",
       "      <th>5268</th>\n",
       "      <td>0</td>\n",
       "      <td>0.43</td>\n",
       "      <td>0.26</td>\n",
       "      <td>0.043</td>\n",
       "      <td>176.0</td>\n",
       "      <td>0.99116</td>\n",
       "      <td>12.300000</td>\n",
       "    </tr>\n",
       "  </tbody>\n",
       "</table>\n",
       "<p>4742 rows × 7 columns</p>\n",
       "</div>"
      ],
      "text/plain": [
       "      type  volatile_acidity  citric_acid  chlorides  total_sulfur_dioxide  \\\n",
       "0        0              0.28         0.14      0.032                 142.0   \n",
       "1        0              0.25         0.41      0.042                 173.0   \n",
       "2        0              0.33         0.27      0.036                 134.0   \n",
       "4        0              0.28         0.31      0.046                 208.0   \n",
       "5        0              0.51         0.25      0.048                 177.0   \n",
       "...    ...               ...          ...        ...                   ...   \n",
       "5264     0              0.20         0.26      0.046                 143.0   \n",
       "5265     0              0.28         0.36      0.038                 101.0   \n",
       "5266     0              0.18         0.31      0.058                 167.0   \n",
       "5267     0              0.35         0.25      0.051                 182.0   \n",
       "5268     0              0.43         0.26      0.043                 176.0   \n",
       "\n",
       "      density    alcohol  \n",
       "0     0.99542   9.500000  \n",
       "1     0.99650   9.100000  \n",
       "2     0.99270  10.400000  \n",
       "4     0.99434   9.800000  \n",
       "5     0.99212  10.566667  \n",
       "...       ...        ...  \n",
       "5264  0.99526  10.800000  \n",
       "5265  0.99120  11.600000  \n",
       "5266  0.99310  10.000000  \n",
       "5267  0.99946   9.300000  \n",
       "5268  0.99116  12.300000  \n",
       "\n",
       "[4742 rows x 7 columns]"
      ]
     },
     "execution_count": 19,
     "metadata": {},
     "output_type": "execute_result"
    }
   ],
   "source": [
    "y_train"
   ]
  },
  {
   "cell_type": "code",
   "execution_count": 20,
   "id": "77aa0aee",
   "metadata": {
    "ExecuteTime": {
     "end_time": "2023-11-15T23:03:36.049163Z",
     "start_time": "2023-11-15T23:03:36.039618Z"
    }
   },
   "outputs": [
    {
     "data": {
      "text/html": [
       "<div>\n",
       "<style scoped>\n",
       "    .dataframe tbody tr th:only-of-type {\n",
       "        vertical-align: middle;\n",
       "    }\n",
       "\n",
       "    .dataframe tbody tr th {\n",
       "        vertical-align: top;\n",
       "    }\n",
       "\n",
       "    .dataframe thead th {\n",
       "        text-align: right;\n",
       "    }\n",
       "</style>\n",
       "<table border=\"1\" class=\"dataframe\">\n",
       "  <thead>\n",
       "    <tr style=\"text-align: right;\">\n",
       "      <th></th>\n",
       "      <th>quality</th>\n",
       "    </tr>\n",
       "  </thead>\n",
       "  <tbody>\n",
       "    <tr>\n",
       "      <th>0</th>\n",
       "      <td>1</td>\n",
       "    </tr>\n",
       "    <tr>\n",
       "      <th>1</th>\n",
       "      <td>0</td>\n",
       "    </tr>\n",
       "    <tr>\n",
       "      <th>2</th>\n",
       "      <td>2</td>\n",
       "    </tr>\n",
       "    <tr>\n",
       "      <th>4</th>\n",
       "      <td>0</td>\n",
       "    </tr>\n",
       "    <tr>\n",
       "      <th>5</th>\n",
       "      <td>0</td>\n",
       "    </tr>\n",
       "    <tr>\n",
       "      <th>...</th>\n",
       "      <td>...</td>\n",
       "    </tr>\n",
       "    <tr>\n",
       "      <th>5264</th>\n",
       "      <td>1</td>\n",
       "    </tr>\n",
       "    <tr>\n",
       "      <th>5265</th>\n",
       "      <td>1</td>\n",
       "    </tr>\n",
       "    <tr>\n",
       "      <th>5266</th>\n",
       "      <td>2</td>\n",
       "    </tr>\n",
       "    <tr>\n",
       "      <th>5267</th>\n",
       "      <td>1</td>\n",
       "    </tr>\n",
       "    <tr>\n",
       "      <th>5268</th>\n",
       "      <td>1</td>\n",
       "    </tr>\n",
       "  </tbody>\n",
       "</table>\n",
       "<p>4742 rows × 1 columns</p>\n",
       "</div>"
      ],
      "text/plain": [
       "      quality\n",
       "0           1\n",
       "1           0\n",
       "2           2\n",
       "4           0\n",
       "5           0\n",
       "...       ...\n",
       "5264        1\n",
       "5265        1\n",
       "5266        2\n",
       "5267        1\n",
       "5268        1\n",
       "\n",
       "[4742 rows x 1 columns]"
      ]
     },
     "execution_count": 20,
     "metadata": {},
     "output_type": "execute_result"
    }
   ],
   "source": [
    "# Evaluate model performance using the features from the test set (X_test)\n",
    "y_pred = model(X_test)\n",
    "# y_pred = np.argmax(y_pred, axis=1)\n",
    "# Compare predictions (y_pred) with the labels in the test set (y_test)\n",
    "metrics = classification_report(y_test, y_pred, output_dict=True)\n",
    "results = confusion_matrix(y_test, y_pred)"
   ]
  },
  {
   "cell_type": "code",
   "execution_count": 21,
   "id": "dd3dddab",
   "metadata": {
    "ExecuteTime": {
     "end_time": "2023-11-15T23:03:37.886201Z",
     "start_time": "2023-11-15T23:03:37.774550Z"
    }
   },
   "outputs": [
    {
     "name": "stdout",
     "output_type": "stream",
     "text": [
      "17/17 [==============================] - 0s 906us/step\n"
     ]
    }
   ],
   "source": [
    "print(metrics)"
   ]
  },
  {
   "cell_type": "code",
   "execution_count": 22,
   "id": "4d944032",
   "metadata": {
    "ExecuteTime": {
     "end_time": "2023-11-15T23:03:39.753172Z",
     "start_time": "2023-11-15T23:03:39.745661Z"
    }
   },
   "outputs": [
    {
     "name": "stdout",
     "output_type": "stream",
     "text": [
      "{'0': {'precision': 0.6273584905660378, 'recall': 0.689119170984456, 'f1-score': 0.6567901234567901, 'support': 193.0}, '1': {'precision': 0.5404040404040404, 'recall': 0.46120689655172414, 'f1-score': 0.4976744186046511, 'support': 232.0}, '2': {'precision': 0.5042735042735043, 'recall': 0.5784313725490197, 'f1-score': 0.5388127853881278, 'support': 102.0}, 'accuracy': 0.5673624288425048, 'macro avg': {'precision': 0.5573453450811942, 'recall': 0.5762524800283999, 'f1-score': 0.564425775816523, 'support': 527.0}, 'weighted avg': {'precision': 0.5652558320472109, 'recall': 0.5673624288425048, 'f1-score': 0.5639086585446462, 'support': 527.0}}\n"
     ]
    }
   ],
   "source": [
    "# Create the confusion matrix as a figure, we will later store it as a PNG image file\n",
    "#df_cm = pd.DataFrame(results, ['True Low Quality', 'True Good Quality', 'True High Quality'],\n",
    "#                     ['Pred Low Quality', 'Pred Good Quality', 'Pred High Quality'])\n",
    "#cm = sns.heatmap(df_cm, annot=True, fmt='g')\n",
    "#sns.set(rc={'figure.figsize':(11.7,8.27)})\n",
    "#fig = cm.get_figure()"
   ]
  },
  {
   "cell_type": "code",
   "execution_count": 23,
   "id": "bcfdfc4f",
   "metadata": {
    "ExecuteTime": {
     "end_time": "2023-11-15T23:03:41.064254Z",
     "start_time": "2023-11-15T23:03:40.958736Z"
    }
   },
   "outputs": [
    {
     "data": {
      "image/png": "[encoded data removed]",
      "text/plain": [
       "<Figure size 1170x827 with 2 Axes>"
      ]
     },
     "metadata": {},
     "output_type": "display_data"
    }
   ],
   "source": [
    "# We will now upload our model to the Hopsworks Model Registry. First get an object for the model registry.\n",
    "mr = project.get_model_registry()\n",
    "\n",
    "# The contents of the 'iris_model' directory will be saved to the model registry. Create the dir, first.\n",
    "model_dir=\"weather_model\"\n",
    "if os.path.isdir(model_dir) == False:\n",
    "    os.mkdir(model_dir)\n",
    "\n",
    "# Save both our model and the confusion matrix to 'model_dir', whose contents will be uploaded to the model registry\n",
    "model.save_weights(model_dir + '/weather_model.h5')\n",
    "fig.savefig(model_dir + \"/confusion_matrix.png\")    \n",
    "\n",
    "# Specify the schema of the model's input/output using the features (X_train) and labels (y_train)\n",
    "input_schema = Schema(X_train)\n",
    "output_schema = Schema(y_train)\n",
    "model_schema = ModelSchema(input_schema, output_schema)\n",
    "\n",
    "# Create an entry in the model registry that includes the model's name, desc, metrics\n",
    "weather_model = mr.python.create_model(\n",
    "    name=\"weather_model\",\n",
    "    metrics={\"accuracy\" : metrics['accuracy']},\n",
    "    model_schema=model_schema,\n",
    "    description=\"Weather predictor for Stockholm\"\n",
    ")\n",
    "\n",
    "# Upload the model to the model registry, including all files in 'model_dir'\n",
    "weather_model.save(model_dir)"
   ]
  }
 ],
 "metadata": {
  "kernelspec": {
   "display_name": "Python 3 (ipykernel)",
   "language": "python",
   "name": "python3"
  },
  "language_info": {
   "codemirror_mode": {
    "name": "ipython",
    "version": 3
   },
   "file_extension": ".py",
   "mimetype": "text/x-python",
   "name": "python",
   "nbconvert_exporter": "python",
   "pygments_lexer": "ipython3",
   "version": "3.10.0"
  }
 },
 "nbformat": 4,
 "nbformat_minor": 5
}
